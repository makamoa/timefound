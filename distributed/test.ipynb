{
 "cells": [
  {
   "cell_type": "code",
   "execution_count": null,
   "metadata": {},
   "outputs": [
    {
     "ename": "",
     "evalue": "",
     "output_type": "error",
     "traceback": [
      "\u001b[1;31mFailed to start the Kernel. \n",
      "\u001b[1;31mJupyter server crashed. Unable to connect. \n",
      "\u001b[1;31mError code from Jupyter: 1\n",
      "\u001b[1;31mTraceback (most recent call last):\n",
      "\u001b[1;31m  File \"/gpt/data3/KURC/users/kovaledx/mm_venv/lib/python3.11/site-packages/jupyter_server/services/sessions/sessionmanager.py\", line 14, in <module>\n",
      "\u001b[1;31m\n",
      "\u001b[1;31m    import sqlite3\n",
      "\u001b[1;31m\n",
      "\u001b[1;31m  File \"/gpt/data3/KURC/users/kovaledx/311/lib/python3.11/sqlite3/__init__.py\", line 57, in <module>\n",
      "\u001b[1;31m\n",
      "\u001b[1;31m    from sqlite3.dbapi2 import *\n",
      "\u001b[1;31m\n",
      "\u001b[1;31m  File \"/gpt/data3/KURC/users/kovaledx/311/lib/python3.11/sqlite3/dbapi2.py\", line 27, in <module>\n",
      "\u001b[1;31m\n",
      "\u001b[1;31m    from _sqlite3 import *\n",
      "\u001b[1;31m\n",
      "\u001b[1;31mImportError: /gpt/data3/KURC/users/kovaledx/311/lib/python3.11/lib-dynload/_sqlite3.cpython-311-x86_64-linux-gnu.so: undefined symbol: sqlite3_deserialize\n",
      "\u001b[1;31m\n",
      "\u001b[1;31mDuring handling of the above exception, another exception occurred:\n",
      "\u001b[1;31m\n",
      "\u001b[1;31mTraceback (most recent call last):\n",
      "\u001b[1;31m\n",
      "\u001b[1;31m  File \"/gpt/data3/KURC/users/kovaledx/mm_venv/bin/jupyter-notebook\", line 5, in <module>\n",
      "\u001b[1;31m\n",
      "\u001b[1;31m    from notebook.app import main\n",
      "\u001b[1;31m\n",
      "\u001b[1;31m  File \"/gpt/data3/KURC/users/kovaledx/mm_venv/lib/python3.11/site-packages/notebook/app.py\", line 17, in <module>\n",
      "\u001b[1;31m\n",
      "\u001b[1;31m    from jupyter_server.serverapp import flags\n",
      "\u001b[1;31m\n",
      "\u001b[1;31m  File \"/gpt/data3/KURC/users/kovaledx/mm_venv/lib/python3.11/site-packages/jupyter_server/serverapp.py\", line 107, in <module>\n",
      "\u001b[1;31m\n",
      "\u001b[1;31m    from jupyter_server.gateway.managers import (\n",
      "\u001b[1;31m\n",
      "\u001b[1;31m  File \"/gpt/data3/KURC/users/kovaledx/mm_venv/lib/python3.11/site-packages/jupyter_server/gateway/managers.py\", line 32, in <module>\n",
      "\u001b[1;31m\n",
      "\u001b[1;31m    from ..services.sessions.sessionmanager import SessionManager\n",
      "\u001b[1;31m\n",
      "\u001b[1;31m  File \"/gpt/data3/KURC/users/kovaledx/mm_venv/lib/python3.11/site-packages/jupyter_server/services/sessions/sessionmanager.py\", line 17, in <module>\n",
      "\u001b[1;31m\n",
      "\u001b[1;31m    from pysqlite2 import dbapi2 as sqlite3  # type:ignore[no-redef]\n",
      "\u001b[1;31m\n",
      "\u001b[1;31m    ^^^^^^^^^^^^\n",
      "\u001b[1;31m^^^^^^^^^^^^^^^^^^^^^^^^^^^\n",
      "\u001b[1;31mModuleNotFoundError: No module named 'pysqlite2'. \n",
      "\u001b[1;31mView Jupyter <a href='command:jupyter.viewOutput'>log</a> for further details."
     ]
    }
   ],
   "source": [
    "from momentfm.data.informer_dataset import InformerDataset"
   ]
  },
  {
   "cell_type": "code",
   "execution_count": null,
   "metadata": {},
   "outputs": [],
   "source": [
    "import numpy as np"
   ]
  },
  {
   "cell_type": "code",
   "execution_count": null,
   "metadata": {},
   "outputs": [],
   "source": [
    "np.array([0,q])"
   ]
  },
  {
   "cell_type": "code",
   "execution_count": null,
   "metadata": {},
   "outputs": [],
   "source": []
  }
 ],
 "metadata": {
  "language_info": {
   "name": "python"
  }
 },
 "nbformat": 4,
 "nbformat_minor": 2
}
